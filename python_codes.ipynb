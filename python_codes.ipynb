{
  "nbformat": 4,
  "nbformat_minor": 0,
  "metadata": {
    "colab": {
      "provenance": [],
      "authorship_tag": "ABX9TyPJNUQutuWM0AmMqjMZPvwT",
      "include_colab_link": true
    },
    "kernelspec": {
      "name": "python3",
      "display_name": "Python 3"
    },
    "language_info": {
      "name": "python"
    }
  },
  "cells": [
    {
      "cell_type": "markdown",
      "metadata": {
        "id": "view-in-github",
        "colab_type": "text"
      },
      "source": [
        "<a href=\"https://colab.research.google.com/github/ssupsandeep/PRODIGY_ML_01/blob/main/python_codes.ipynb\" target=\"_parent\"><img src=\"https://colab.research.google.com/assets/colab-badge.svg\" alt=\"Open In Colab\"/></a>"
      ]
    },
    {
      "cell_type": "markdown",
      "source": [
        "experiment-1   Write a python program to sort the array with implementation of\n",
        "numpy\n"
      ],
      "metadata": {
        "id": "15Wf30aPAKXY"
      }
    },
    {
      "cell_type": "code",
      "execution_count": 1,
      "metadata": {
        "colab": {
          "base_uri": "https://localhost:8080/"
        },
        "id": "wkiqEpI3AIyZ",
        "outputId": "06add978-d4b4-4ff3-ce82-0c1974fde0b5"
      },
      "outputs": [
        {
          "output_type": "stream",
          "name": "stdout",
          "text": [
            "Original array: [12  4 56  7 29 10]\n",
            "Sorted array: [ 4  7 10 12 29 56]\n"
          ]
        }
      ],
      "source": [
        "import numpy as np\n",
        "\n",
        "\n",
        "arr = np.array([12, 4, 56, 7, 29, 10])\n",
        "\n",
        "sorted_arr = np.sort(arr)\n",
        "\n",
        "\n",
        "print(\"Original array:\", arr)\n",
        "print(\"Sorted array:\", sorted_arr)\n"
      ]
    },
    {
      "cell_type": "markdown",
      "source": [
        "experiment-2  Write a python program to use dataframes with\n",
        "implementation of pandas\n"
      ],
      "metadata": {
        "id": "y_-6D9A3ATJm"
      }
    },
    {
      "cell_type": "code",
      "source": [
        "import pandas as pd\n",
        "\n",
        "\n",
        "data = {\n",
        "    \"Name\": [\"Alice\", \"Bob\", \"Charlie\", \"David\"],\n",
        "    \"Age\": [24, 27, 22, 32],\n",
        "    \"Department\": [\"HR\", \"Finance\", \"IT\", \"Marketing\"],\n",
        "    \"Salary\": [50000, 60000, 55000, 65000]\n",
        "}\n",
        "\n",
        "df = pd.DataFrame(data)\n",
        "\n",
        "\n",
        "print(\"DataFrame:\")\n",
        "print(df)\n",
        "\n",
        "print(\"\\nNames:\")\n",
        "print(df[\"Name\"])\n"
      ],
      "metadata": {
        "colab": {
          "base_uri": "https://localhost:8080/"
        },
        "id": "Tp5u82caAcYe",
        "outputId": "58b9c4a4-2c8d-40a6-bb2a-258179963222"
      },
      "execution_count": 2,
      "outputs": [
        {
          "output_type": "stream",
          "name": "stdout",
          "text": [
            "DataFrame:\n",
            "      Name  Age Department  Salary\n",
            "0    Alice   24         HR   50000\n",
            "1      Bob   27    Finance   60000\n",
            "2  Charlie   22         IT   55000\n",
            "3    David   32  Marketing   65000\n",
            "\n",
            "Names:\n",
            "0      Alice\n",
            "1        Bob\n",
            "2    Charlie\n",
            "3      David\n",
            "Name: Name, dtype: object\n"
          ]
        }
      ]
    },
    {
      "cell_type": "markdown",
      "source": [
        "experiment-3    Implement basic search strategies–8- Queens problem\n"
      ],
      "metadata": {
        "id": "c9HHOUnIAmJN"
      }
    },
    {
      "cell_type": "code",
      "source": [
        "import heapq\n",
        "\n",
        "def uniform_cost_search(graph, start, goal):\n",
        "\n",
        "    pq = [(0, start, [])]\n",
        "    visited = set()\n",
        "\n",
        "    while pq:\n",
        "        cost, node, path = heapq.heappop(pq)\n",
        "\n",
        "        if node in visited:\n",
        "            continue\n",
        "\n",
        "        path = path + [node]\n",
        "        visited.add(node)\n",
        "\n",
        "\n",
        "        if node == goal:\n",
        "            return cost, path\n",
        "\n",
        "\n",
        "        for neighbor, weight in graph.get(node, []):\n",
        "            if neighbor not in visited:\n",
        "                heapq.heappush(pq, (cost + weight, neighbor, path))\n",
        "\n",
        "    return float(\"inf\"), []\n",
        "graph = {\n",
        "    'A': [('B', 1), ('C', 4)],\n",
        "    'B': [('C', 2), ('D', 3)],\n",
        "    'C': [('D', 1)],\n",
        "    'D': []\n",
        "}\n",
        "\n",
        "\n",
        "start_node = 'A'\n",
        "goal_node = 'D'\n",
        "cost, path = uniform_cost_search(graph, start_node, goal_node)\n",
        "\n",
        "\n",
        "print(f\"Cost: {cost}, Path: {' -> '.join(path)}\")\n"
      ],
      "metadata": {
        "colab": {
          "base_uri": "https://localhost:8080/"
        },
        "id": "0aXqMqJIAp7M",
        "outputId": "7c33d325-91e8-42f8-8b76-c779fc1132b4"
      },
      "execution_count": 9,
      "outputs": [
        {
          "output_type": "stream",
          "name": "stdout",
          "text": [
            "Cost: 4, Path: A -> B -> D\n"
          ]
        }
      ]
    },
    {
      "cell_type": "markdown",
      "source": [
        "experiment-4    Implement A* for route finding problem\n"
      ],
      "metadata": {
        "id": "RNfmM3jAAy1Q"
      }
    },
    {
      "cell_type": "code",
      "source": [
        "import heapq\n",
        "\n",
        "def heuristic(a, b):\n",
        "    \"\"\"Calculate Manhattan distance heuristic.\"\"\"\n",
        "    return abs(a[0] - b[0]) + abs(a[1] - b[1])\n",
        "\n",
        "def a_star_search(grid, start, goal):\n",
        "    \"\"\"Perform A* search on a given grid.\"\"\"\n",
        "    rows, cols = len(grid), len(grid[0])\n",
        "    open_list = []\n",
        "    heapq.heappush(open_list, (0, start))\n",
        "    came_from = {}\n",
        "    g_score = {start: 0}\n",
        "    f_score = {start: heuristic(start, goal)}\n",
        "\n",
        "    while open_list:\n",
        "        _, current = heapq.heappop(open_list)\n",
        "\n",
        "        if current == goal:\n",
        "            path = []\n",
        "            while current in came_from:\n",
        "                path.append(current)\n",
        "                current = came_from[current]\n",
        "            path.append(start)\n",
        "            return path[::-1]\n",
        "\n",
        "        x, y = current\n",
        "        for dx, dy in [(-1, 0), (1, 0), (0, -1), (0, 1)]:\n",
        "            neighbor = (x + dx, y + dy)\n",
        "            if 0 <= neighbor[0] < rows and 0 <= neighbor[1] < cols and grid[neighbor[0]][neighbor[1]] == 0:\n",
        "                tentative_g_score = g_score[current] + 1\n",
        "                if neighbor not in g_score or tentative_g_score < g_score[neighbor]:\n",
        "                    came_from[neighbor] = current\n",
        "                    g_score[neighbor] = tentative_g_score\n",
        "                    f_score[neighbor] = tentative_g_score + heuristic(neighbor, goal)\n",
        "                    heapq.heappush(open_list, (f_score[neighbor], neighbor))\n",
        "\n",
        "    return []\n",
        "\n",
        "\n",
        "grid = [\n",
        "    [0, 0, 0, 0, 0],\n",
        "    [0, 1, 1, 1, 0],\n",
        "    [0, 1, 0, 1, 0],\n",
        "    [0, 1, 0, 1, 0],\n",
        "    [0, 0, 0, 0, 0]\n",
        "]\n",
        "\n",
        "\n",
        "start = (4, 0)\n",
        "goal = (0, 0)\n",
        "\n",
        "\n",
        "path = a_star_search(grid, start, goal)\n",
        "\n",
        "\n",
        "print(\"The Path is\")\n",
        "print(\" -> \".join(map(str, path)))\n"
      ],
      "metadata": {
        "colab": {
          "base_uri": "https://localhost:8080/"
        },
        "id": "yVLVZFpaA0zB",
        "outputId": "a7ea1615-6138-472e-c36d-07194ffddde4"
      },
      "execution_count": 4,
      "outputs": [
        {
          "output_type": "stream",
          "name": "stdout",
          "text": [
            "The Path is\n",
            "(4, 0) -> (3, 0) -> (2, 0) -> (1, 0) -> (0, 0)\n"
          ]
        }
      ]
    },
    {
      "cell_type": "markdown",
      "source": [
        "experiment-5   Implement Hill climbing algorithm\n"
      ],
      "metadata": {
        "id": "wTZ_R_n-A84X"
      }
    },
    {
      "cell_type": "code",
      "source": [
        "import random\n",
        "\n",
        "def objective_function(x):\n",
        "    \"\"\" Example function to maximize: f(x) = -x^2 (Parabola) \"\"\"\n",
        "    return -x**2\n",
        "\n",
        "def hill_climb(max_iterations=1000, step_size=0.1):\n",
        "    \"\"\"Hill Climbing Algorithm Implementation\"\"\"\n",
        "    current_solution = random.uniform(-1, 1)\n",
        "    current_value = objective_function(current_solution)\n",
        "\n",
        "    print(\"Starting Hill Climbing Algorithm...\")\n",
        "    for iteration in range(1, max_iterations + 1):\n",
        "        new_solution = current_solution + random.uniform(-step_size, step_size)\n",
        "        new_value = objective_function(new_solution)\n",
        "\n",
        "        if new_value > current_value:\n",
        "            current_solution = new_solution\n",
        "            current_value = new_value\n",
        "\n",
        "        if iteration % 200 == 0:\n",
        "            print(f\"Iteration {iteration}: Best solution = {current_solution}, Objective value = {current_value}\")\n",
        "\n",
        "    print(\"Hill Climbing Algorithm terminated.\")\n",
        "    print(f\"Best solution found: {current_solution}\")\n",
        "    print(f\"Objective value at best solution: {current_value}\")\n",
        "\n",
        "hill_climb()\n"
      ],
      "metadata": {
        "colab": {
          "base_uri": "https://localhost:8080/"
        },
        "id": "93rZQWjeBAEc",
        "outputId": "8ff2dad0-17dd-4d72-cc94-8c6d53df2a70"
      },
      "execution_count": 5,
      "outputs": [
        {
          "output_type": "stream",
          "name": "stdout",
          "text": [
            "Starting Hill Climbing Algorithm...\n",
            "Iteration 200: Best solution = 0.00013693112213736258, Objective value = -1.8750132209797307e-08\n",
            "Iteration 400: Best solution = 2.5369958637166956e-05, Objective value = -6.436348012515623e-10\n",
            "Iteration 600: Best solution = 2.5369958637166956e-05, Objective value = -6.436348012515623e-10\n",
            "Iteration 800: Best solution = 2.5369958637166956e-05, Objective value = -6.436348012515623e-10\n",
            "Iteration 1000: Best solution = 2.5369958637166956e-05, Objective value = -6.436348012515623e-10\n",
            "Hill Climbing Algorithm terminated.\n",
            "Best solution found: 2.5369958637166956e-05\n",
            "Objective value at best solution: -6.436348012515623e-10\n"
          ]
        }
      ]
    },
    {
      "cell_type": "markdown",
      "source": [
        "experiment-6          Implement Alpha-Beta pruning for game\n",
        "playing\n"
      ],
      "metadata": {
        "id": "dhXMxjkyBFJS"
      }
    },
    {
      "cell_type": "code",
      "source": [
        "import math\n",
        "\n",
        "def alpha_beta_pruning(depth, node_index, maximizing_player, values, alpha, beta):\n",
        "    \"\"\"Recursive function to perform Alpha-Beta Pruning.\"\"\"\n",
        "    if depth == 3:\n",
        "        return values[node_index]\n",
        "\n",
        "    if maximizing_player:\n",
        "        max_eval = -math.inf\n",
        "        for i in range(2):\n",
        "            eval = alpha_beta_pruning(depth + 1, node_index * 2 + i, False, values, alpha, beta)\n",
        "            max_eval = max(max_eval, eval)\n",
        "            alpha = max(alpha, eval)\n",
        "            if beta <= alpha:\n",
        "                break\n",
        "        return max_eval\n",
        "    else:\n",
        "        min_eval = math.inf\n",
        "        for i in range(2):\n",
        "            eval = alpha_beta_pruning(depth + 1, node_index * 2 + i, True, values, alpha, beta)\n",
        "            min_eval = min(min_eval, eval)\n",
        "            beta = min(beta, eval)\n",
        "            if beta <= alpha:\n",
        "                break\n",
        "        return min_eval\n",
        "\n",
        "\n",
        "values = [3, 5, 6, 9, 1, 2, 0, -1]\n",
        "\n",
        "\n",
        "optimal_value = alpha_beta_pruning(0, 0, True, values, -math.inf, math.inf)\n",
        "\n",
        "print(\"The optimal value is:\", optimal_value)\n"
      ],
      "metadata": {
        "colab": {
          "base_uri": "https://localhost:8080/"
        },
        "id": "yBkLI1zgBHHI",
        "outputId": "4a5cff5d-a0f2-47aa-9072-b284e674c0c3"
      },
      "execution_count": 6,
      "outputs": [
        {
          "output_type": "stream",
          "name": "stdout",
          "text": [
            "The optimal value is: 5\n"
          ]
        }
      ]
    },
    {
      "cell_type": "markdown",
      "source": [
        "experiment-7           Solve constraint satisfaction problems\n"
      ],
      "metadata": {
        "id": "MWZsoHzNBMxM"
      }
    },
    {
      "cell_type": "code",
      "source": [
        "from itertools import permutations\n",
        "\n",
        "def is_valid(assignment, variables, domain):\n",
        "    \"\"\"Check if the assignment satisfies all constraints.\"\"\"\n",
        "    if len(assignment) != len(variables):\n",
        "        return False\n",
        "    for value in assignment:\n",
        "        if value not in domain:\n",
        "            return False\n",
        "    return True\n",
        "\n",
        "def solve_csp(variables, domain):\n",
        "    \"\"\"Solve the constraint satisfaction problem using backtracking.\"\"\"\n",
        "    for perm in permutations(domain * (len(variables) // len(domain) + 1), len(variables)):\n",
        "        assignment = dict(zip(variables, perm))\n",
        "        if is_valid(list(assignment.values()), variables, domain):\n",
        "            return assignment\n",
        "    return None\n",
        "\n",
        "VARIABLES = ['csc', 'maths', 'phy', 'che', 'tam', 'eng', 'bio']\n",
        "DOMAIN = ['Monday', 'Tuesday', 'Wednesday']\n",
        "\n",
        "\n",
        "solution = solve_csp(VARIABLES, DOMAIN)\n",
        "\n",
        "\n",
        "print(\"Solution:\", solution)\n"
      ],
      "metadata": {
        "colab": {
          "base_uri": "https://localhost:8080/"
        },
        "id": "s70h5DnLBO7f",
        "outputId": "fcbdb0e7-a224-41ca-ca89-549e9ae712f1"
      },
      "execution_count": 7,
      "outputs": [
        {
          "output_type": "stream",
          "name": "stdout",
          "text": [
            "Solution: {'csc': 'Monday', 'maths': 'Tuesday', 'phy': 'Wednesday', 'che': 'Monday', 'tam': 'Tuesday', 'eng': 'Wednesday', 'bio': 'Monday'}\n"
          ]
        }
      ]
    },
    {
      "cell_type": "markdown",
      "source": [
        "experiment-8     Implement Forward Chaining inference Strategies\n"
      ],
      "metadata": {
        "id": "ikmON3ksBTmU"
      }
    },
    {
      "cell_type": "code",
      "source": [
        "class KnowledgeBase:\n",
        "    def __init__(self):\n",
        "        self.facts = set()\n",
        "        self.rules = []\n",
        "\n",
        "    def add_fact(self, fact):\n",
        "        self.facts.add(fact)\n",
        "\n",
        "    def add_rule(self, antecedents, consequent):\n",
        "        self.rules.append((set(antecedents), consequent))\n",
        "\n",
        "    def forward_chaining(self):\n",
        "        inferred = set(self.facts)\n",
        "        added = True\n",
        "        while added:\n",
        "            added = False\n",
        "            for antecedents, consequent in self.rules:\n",
        "                if antecedents.issubset(inferred) and consequent not in inferred:\n",
        "                    inferred.add(consequent)\n",
        "                    added = True\n",
        "        return inferred\n",
        "\n",
        "    def backward_chaining(self, goal):\n",
        "        if goal in self.facts:\n",
        "            return True\n",
        "        for antecedents, consequent in self.rules:\n",
        "            if consequent == goal:\n",
        "                if all(self.backward_chaining(ant) for ant in antecedents):\n",
        "                    return True\n",
        "        return False\n",
        "\n",
        "\n",
        "kb = KnowledgeBase()\n",
        "kb.add_fact(\"A\")\n",
        "kb.add_rule([\"A\"], \"B\")\n",
        "kb.add_rule([\"B\"], \"C\")\n",
        "kb.add_rule([\"C\"], \"D\")\n",
        "\n",
        "forward_result = kb.forward_chaining()\n",
        "backward_result = kb.backward_chaining(\"D\")\n",
        "\n",
        "print(\"Forward Chaining Result:\", forward_result)\n",
        "print(\"Backward Chaining Result:\", backward_result)\n"
      ],
      "metadata": {
        "colab": {
          "base_uri": "https://localhost:8080/"
        },
        "id": "jZzXbfn2BVQz",
        "outputId": "1a1e6f3e-a7ac-4f5c-fbaf-77c4e29627ab"
      },
      "execution_count": 10,
      "outputs": [
        {
          "output_type": "stream",
          "name": "stdout",
          "text": [
            "Forward Chaining Result: {'A', 'C', 'D', 'B'}\n",
            "Backward Chaining Result: True\n"
          ]
        }
      ]
    }
  ]
}